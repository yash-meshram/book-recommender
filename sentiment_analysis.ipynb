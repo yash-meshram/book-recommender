{
 "cells": [
  {
   "metadata": {
    "ExecuteTime": {
     "end_time": "2025-07-08T18:12:34.388877Z",
     "start_time": "2025-07-08T18:12:34.372926Z"
    }
   },
   "cell_type": "code",
   "source": [
    "import warnings\n",
    "warnings.filterwarnings(\"ignore\")"
   ],
   "id": "97f6cfa98fbc9658",
   "outputs": [],
   "execution_count": 1
  },
  {
   "cell_type": "code",
   "id": "initial_id",
   "metadata": {
    "collapsed": true,
    "ExecuteTime": {
     "end_time": "2025-07-08T18:12:36.119059Z",
     "start_time": "2025-07-08T18:12:34.833130Z"
    }
   },
   "source": [
    "import pandas as pd\n",
    "\n",
    "books = pd.read_csv('books_with_categories.csv')"
   ],
   "outputs": [],
   "execution_count": 2
  },
  {
   "metadata": {
    "ExecuteTime": {
     "end_time": "2025-07-08T18:12:36.181490Z",
     "start_time": "2025-07-08T18:12:36.167385Z"
    }
   },
   "cell_type": "code",
   "source": "# Here we will create an new row which will define the emotion of the description thus books",
   "id": "ea1f3242056ea901",
   "outputs": [],
   "execution_count": 3
  },
  {
   "metadata": {
    "ExecuteTime": {
     "end_time": "2025-07-08T18:13:24.163221Z",
     "start_time": "2025-07-08T18:13:15.563387Z"
    }
   },
   "cell_type": "code",
   "source": [
    "from transformers import pipeline\n",
    "\n",
    "classifier = pipeline(\n",
    "    \"text-classification\",\n",
    "    model = \"j-hartmann/emotion-english-distilroberta-base\",\n",
    "    top_k = None,\n",
    "    return_all_scores = True\n",
    ")\n",
    "\n",
    "classifier(\"I love this!\")"
   ],
   "id": "1492a7e026e25c56",
   "outputs": [
    {
     "name": "stderr",
     "output_type": "stream",
     "text": [
      "Xet Storage is enabled for this repo, but the 'hf_xet' package is not installed. Falling back to regular HTTP download. For better performance, install the package with: `pip install huggingface_hub[hf_xet]` or `pip install hf_xet`\n",
      "Device set to use cpu\n"
     ]
    },
    {
     "data": {
      "text/plain": [
       "[[{'label': 'joy', 'score': 0.9771687984466553},\n",
       "  {'label': 'surprise', 'score': 0.008528691716492176},\n",
       "  {'label': 'neutral', 'score': 0.005764589179307222},\n",
       "  {'label': 'anger', 'score': 0.004419791977852583},\n",
       "  {'label': 'sadness', 'score': 0.002092393347993493},\n",
       "  {'label': 'disgust', 'score': 0.001611992483958602},\n",
       "  {'label': 'fear', 'score': 0.0004138525982853025}]]"
      ]
     },
     "execution_count": 5,
     "metadata": {},
     "output_type": "execute_result"
    }
   ],
   "execution_count": 5
  },
  {
   "metadata": {
    "ExecuteTime": {
     "end_time": "2025-07-08T18:13:53.183706Z",
     "start_time": "2025-07-08T18:13:53.140013Z"
    }
   },
   "cell_type": "code",
   "source": "books['description'][0]",
   "id": "3a755b4ab0a156f2",
   "outputs": [
    {
     "data": {
      "text/plain": [
       "'A NOVEL THAT READERS and critics have been eagerly anticipating for over a decade, Gilead is an astonishingly imagined story of remarkable lives. John Ames is a preacher, the son of a preacher and the grandson (both maternal and paternal) of preachers. It’s 1956 in Gilead, Iowa, towards the end of the Reverend Ames’s life, and he is absorbed in recording his family’s story, a legacy for the young son he will never see grow up. Haunted by his grandfather’s presence, John tells of the rift between his grandfather and his father: the elder, an angry visionary who fought for the abolitionist cause, and his son, an ardent pacifist. He is troubled, too, by his prodigal namesake, Jack (John Ames) Boughton, his best friend’s lost son who returns to Gilead searching for forgiveness and redemption. Told in John Ames’s joyous, rambling voice that finds beauty, humour and truth in the smallest of life’s details, Gilead is a song of celebration and acceptance of the best and the worst the world has to offer. At its heart is a tale of the sacred bonds between fathers and sons, pitch-perfect in style and story, set to dazzle critics and readers alike.'"
      ]
     },
     "execution_count": 6,
     "metadata": {},
     "output_type": "execute_result"
    }
   ],
   "execution_count": 6
  },
  {
   "metadata": {
    "ExecuteTime": {
     "end_time": "2025-07-08T18:14:32.529245Z",
     "start_time": "2025-07-08T18:14:31.658134Z"
    }
   },
   "cell_type": "code",
   "source": "classifier(books['description'][0])",
   "id": "6f1e7e874d3c644e",
   "outputs": [
    {
     "data": {
      "text/plain": [
       "[[{'label': 'fear', 'score': 0.6548399925231934},\n",
       "  {'label': 'neutral', 'score': 0.1698525995016098},\n",
       "  {'label': 'sadness', 'score': 0.11640939861536026},\n",
       "  {'label': 'surprise', 'score': 0.02070068009197712},\n",
       "  {'label': 'disgust', 'score': 0.019100721925497055},\n",
       "  {'label': 'joy', 'score': 0.015161462128162384},\n",
       "  {'label': 'anger', 'score': 0.003935154061764479}]]"
      ]
     },
     "execution_count": 7,
     "metadata": {},
     "output_type": "execute_result"
    }
   ],
   "execution_count": 7
  },
  {
   "metadata": {
    "ExecuteTime": {
     "end_time": "2025-07-08T18:16:01.751562Z",
     "start_time": "2025-07-08T18:16:01.727996Z"
    }
   },
   "cell_type": "code",
   "source": "# Will split the description in sentenses and classify this",
   "id": "d61495d390296f34",
   "outputs": [],
   "execution_count": 10
  },
  {
   "metadata": {
    "ExecuteTime": {
     "end_time": "2025-07-08T18:15:41.706388Z",
     "start_time": "2025-07-08T18:15:38.252541Z"
    }
   },
   "cell_type": "code",
   "source": "classifier(books['description'][0].split(\".\"))",
   "id": "261d2d251440c707",
   "outputs": [
    {
     "data": {
      "text/plain": [
       "[[{'label': 'surprise', 'score': 0.7296021580696106},\n",
       "  {'label': 'neutral', 'score': 0.14038598537445068},\n",
       "  {'label': 'fear', 'score': 0.06816227734088898},\n",
       "  {'label': 'joy', 'score': 0.04794260486960411},\n",
       "  {'label': 'anger', 'score': 0.009156367741525173},\n",
       "  {'label': 'disgust', 'score': 0.0026284768246114254},\n",
       "  {'label': 'sadness', 'score': 0.002122163772583008}],\n",
       " [{'label': 'neutral', 'score': 0.4493706524372101},\n",
       "  {'label': 'disgust', 'score': 0.27359113097190857},\n",
       "  {'label': 'joy', 'score': 0.1090831384062767},\n",
       "  {'label': 'sadness', 'score': 0.09362747520208359},\n",
       "  {'label': 'anger', 'score': 0.04047833010554314},\n",
       "  {'label': 'surprise', 'score': 0.02697019837796688},\n",
       "  {'label': 'fear', 'score': 0.006879049818962812}],\n",
       " [{'label': 'neutral', 'score': 0.6462159156799316},\n",
       "  {'label': 'sadness', 'score': 0.242733433842659},\n",
       "  {'label': 'disgust', 'score': 0.043422672897577286},\n",
       "  {'label': 'surprise', 'score': 0.02830057218670845},\n",
       "  {'label': 'joy', 'score': 0.014211490750312805},\n",
       "  {'label': 'fear', 'score': 0.014084091410040855},\n",
       "  {'label': 'anger', 'score': 0.011031905189156532}],\n",
       " [{'label': 'fear', 'score': 0.9281682968139648},\n",
       "  {'label': 'anger', 'score': 0.03219081461429596},\n",
       "  {'label': 'neutral', 'score': 0.012808660045266151},\n",
       "  {'label': 'sadness', 'score': 0.008756875991821289},\n",
       "  {'label': 'surprise', 'score': 0.008597892709076405},\n",
       "  {'label': 'disgust', 'score': 0.008431807160377502},\n",
       "  {'label': 'joy', 'score': 0.0010455832816660404}],\n",
       " [{'label': 'sadness', 'score': 0.9671575427055359},\n",
       "  {'label': 'neutral', 'score': 0.015104148536920547},\n",
       "  {'label': 'disgust', 'score': 0.00648059556260705},\n",
       "  {'label': 'fear', 'score': 0.005393987521529198},\n",
       "  {'label': 'surprise', 'score': 0.0022869398817420006},\n",
       "  {'label': 'anger', 'score': 0.001842890284024179},\n",
       "  {'label': 'joy', 'score': 0.0017338779289275408}],\n",
       " [{'label': 'joy', 'score': 0.9327981472015381},\n",
       "  {'label': 'disgust', 'score': 0.0377170704305172},\n",
       "  {'label': 'neutral', 'score': 0.015891827642917633},\n",
       "  {'label': 'sadness', 'score': 0.006444500293582678},\n",
       "  {'label': 'anger', 'score': 0.005024968180805445},\n",
       "  {'label': 'surprise', 'score': 0.0015812065685167909},\n",
       "  {'label': 'fear', 'score': 0.0005423057009465992}],\n",
       " [{'label': 'joy', 'score': 0.6528705954551697},\n",
       "  {'label': 'neutral', 'score': 0.25427478551864624},\n",
       "  {'label': 'surprise', 'score': 0.06808297336101532},\n",
       "  {'label': 'sadness', 'score': 0.009908991865813732},\n",
       "  {'label': 'disgust', 'score': 0.006512214429676533},\n",
       "  {'label': 'anger', 'score': 0.0048213074915111065},\n",
       "  {'label': 'fear', 'score': 0.003529018023982644}],\n",
       " [{'label': 'neutral', 'score': 0.549476683139801},\n",
       "  {'label': 'sadness', 'score': 0.11169019341468811},\n",
       "  {'label': 'disgust', 'score': 0.10400673747062683},\n",
       "  {'label': 'surprise', 'score': 0.07876546680927277},\n",
       "  {'label': 'anger', 'score': 0.06413363665342331},\n",
       "  {'label': 'fear', 'score': 0.051362838596105576},\n",
       "  {'label': 'joy', 'score': 0.04056441783905029}]]"
      ]
     },
     "execution_count": 9,
     "metadata": {},
     "output_type": "execute_result"
    }
   ],
   "execution_count": 9
  },
  {
   "metadata": {
    "ExecuteTime": {
     "end_time": "2025-07-08T18:17:12.964375Z",
     "start_time": "2025-07-08T18:17:10.837835Z"
    }
   },
   "cell_type": "code",
   "source": [
    "sentences = books['description'][0].split(\".\")\n",
    "prediction = classifier(sentences)"
   ],
   "id": "2dd184eb31c1ec82",
   "outputs": [],
   "execution_count": 11
  },
  {
   "metadata": {
    "ExecuteTime": {
     "end_time": "2025-07-08T18:17:15.771147Z",
     "start_time": "2025-07-08T18:17:15.759673Z"
    }
   },
   "cell_type": "code",
   "source": "sentences[0]",
   "id": "722a42ecef42ecdf",
   "outputs": [
    {
     "data": {
      "text/plain": [
       "'A NOVEL THAT READERS and critics have been eagerly anticipating for over a decade, Gilead is an astonishingly imagined story of remarkable lives'"
      ]
     },
     "execution_count": 12,
     "metadata": {},
     "output_type": "execute_result"
    }
   ],
   "execution_count": 12
  },
  {
   "metadata": {
    "ExecuteTime": {
     "end_time": "2025-07-08T18:17:20.406117Z",
     "start_time": "2025-07-08T18:17:20.380654Z"
    }
   },
   "cell_type": "code",
   "source": "prediction[0]",
   "id": "86392c6288c24ae0",
   "outputs": [
    {
     "data": {
      "text/plain": [
       "[{'label': 'surprise', 'score': 0.7296021580696106},\n",
       " {'label': 'neutral', 'score': 0.14038598537445068},\n",
       " {'label': 'fear', 'score': 0.06816227734088898},\n",
       " {'label': 'joy', 'score': 0.04794260486960411},\n",
       " {'label': 'anger', 'score': 0.009156367741525173},\n",
       " {'label': 'disgust', 'score': 0.0026284768246114254},\n",
       " {'label': 'sadness', 'score': 0.002122163772583008}]"
      ]
     },
     "execution_count": 13,
     "metadata": {},
     "output_type": "execute_result"
    }
   ],
   "execution_count": 13
  },
  {
   "metadata": {
    "ExecuteTime": {
     "end_time": "2025-07-08T18:17:30.192932Z",
     "start_time": "2025-07-08T18:17:30.121293Z"
    }
   },
   "cell_type": "code",
   "source": "sentences[4]",
   "id": "2449563134bb6d85",
   "outputs": [
    {
     "data": {
      "text/plain": [
       "' He is troubled, too, by his prodigal namesake, Jack (John Ames) Boughton, his best friend’s lost son who returns to Gilead searching for forgiveness and redemption'"
      ]
     },
     "execution_count": 14,
     "metadata": {},
     "output_type": "execute_result"
    }
   ],
   "execution_count": 14
  },
  {
   "metadata": {
    "ExecuteTime": {
     "end_time": "2025-07-08T18:17:36.357450Z",
     "start_time": "2025-07-08T18:17:36.321293Z"
    }
   },
   "cell_type": "code",
   "source": "prediction[4]",
   "id": "36d68a0c7eb062e8",
   "outputs": [
    {
     "data": {
      "text/plain": [
       "[{'label': 'sadness', 'score': 0.9671575427055359},\n",
       " {'label': 'neutral', 'score': 0.015104148536920547},\n",
       " {'label': 'disgust', 'score': 0.00648059556260705},\n",
       " {'label': 'fear', 'score': 0.005393987521529198},\n",
       " {'label': 'surprise', 'score': 0.0022869398817420006},\n",
       " {'label': 'anger', 'score': 0.001842890284024179},\n",
       " {'label': 'joy', 'score': 0.0017338779289275408}]"
      ]
     },
     "execution_count": 15,
     "metadata": {},
     "output_type": "execute_result"
    }
   ],
   "execution_count": 15
  },
  {
   "metadata": {
    "ExecuteTime": {
     "end_time": "2025-07-08T18:20:24.676724Z",
     "start_time": "2025-07-08T18:20:24.652170Z"
    }
   },
   "cell_type": "code",
   "source": [
    "# In the data frame we will create the multiplr columns representing emotions (7 or so)\n",
    "# then we will give the highest score of that emotion to that column\n",
    "\n",
    "# ex.: let say for one of the sentence in description, the hight rated emtion is fear: 0.9\n",
    "# then in fear column we will give 0.9"
   ],
   "id": "b54b1f436bedceb3",
   "outputs": [],
   "execution_count": 18
  },
  {
   "metadata": {
    "ExecuteTime": {
     "end_time": "2025-07-08T18:21:33.507314Z",
     "start_time": "2025-07-08T18:21:33.471758Z"
    }
   },
   "cell_type": "code",
   "source": "sorted(prediction[0], key = lambda x: x[\"label\"])",
   "id": "5ef9433f347ed7ff",
   "outputs": [
    {
     "data": {
      "text/plain": [
       "[{'label': 'anger', 'score': 0.009156367741525173},\n",
       " {'label': 'disgust', 'score': 0.0026284768246114254},\n",
       " {'label': 'fear', 'score': 0.06816227734088898},\n",
       " {'label': 'joy', 'score': 0.04794260486960411},\n",
       " {'label': 'neutral', 'score': 0.14038598537445068},\n",
       " {'label': 'sadness', 'score': 0.002122163772583008},\n",
       " {'label': 'surprise', 'score': 0.7296021580696106}]"
      ]
     },
     "execution_count": 19,
     "metadata": {},
     "output_type": "execute_result"
    }
   ],
   "execution_count": 19
  },
  {
   "metadata": {
    "ExecuteTime": {
     "end_time": "2025-07-08T18:22:03.213779Z",
     "start_time": "2025-07-08T18:22:03.202809Z"
    }
   },
   "cell_type": "code",
   "source": "# this willl sort all the list items in this order only",
   "id": "fbb3e84d11a240d",
   "outputs": [],
   "execution_count": 21
  },
  {
   "metadata": {
    "ExecuteTime": {
     "end_time": "2025-07-08T18:22:19.060580Z",
     "start_time": "2025-07-08T18:22:19.022192Z"
    }
   },
   "cell_type": "code",
   "source": "import numpy as np",
   "id": "36e9e1081ffbf707",
   "outputs": [],
   "execution_count": 22
  },
  {
   "metadata": {
    "ExecuteTime": {
     "end_time": "2025-07-08T18:31:05.279311Z",
     "start_time": "2025-07-08T18:31:05.253601Z"
    }
   },
   "cell_type": "code",
   "source": "emotion_labels = [\"anger\", \"disgust\", \"fear\", \"joy\", \"sadness\", \"surprise\", \"neutral\"]",
   "id": "cbdebba5b8c9dc69",
   "outputs": [],
   "execution_count": 28
  },
  {
   "metadata": {
    "ExecuteTime": {
     "end_time": "2025-07-08T18:31:05.644810Z",
     "start_time": "2025-07-08T18:31:05.633280Z"
    }
   },
   "cell_type": "code",
   "source": [
    "def calculae_max_emotion_score(predictions):\n",
    "    per_emotion_scores = {label: [] for label in emotion_labels}\n",
    "    for prediction in predictions:\n",
    "        sorted_prediction = sorted(prediction, key = lambda x: x[\"label\"])\n",
    "        for index, label in enumerate(emotion_labels):\n",
    "            per_emotion_scores[label].append(sorted_prediction[index][\"score\"])\n",
    "    return {label: np.max(score) for label, score in per_emotion_scores.items()}"
   ],
   "id": "3a47003b1a23a30e",
   "outputs": [],
   "execution_count": 29
  },
  {
   "metadata": {
    "ExecuteTime": {
     "end_time": "2025-07-08T18:31:06.191661Z",
     "start_time": "2025-07-08T18:31:06.181588Z"
    }
   },
   "cell_type": "code",
   "source": "calculae_max_emotion_score(prediction)",
   "id": "fa49b3ac7dba2397",
   "outputs": [
    {
     "data": {
      "text/plain": [
       "{'anger': np.float64(0.06413363665342331),\n",
       " 'disgust': np.float64(0.27359113097190857),\n",
       " 'fear': np.float64(0.9281682968139648),\n",
       " 'joy': np.float64(0.9327981472015381),\n",
       " 'sadness': np.float64(0.6462159156799316),\n",
       " 'surprise': np.float64(0.9671575427055359),\n",
       " 'neutral': np.float64(0.7296021580696106)}"
      ]
     },
     "execution_count": 30,
     "metadata": {},
     "output_type": "execute_result"
    }
   ],
   "execution_count": 30
  },
  {
   "metadata": {
    "ExecuteTime": {
     "end_time": "2025-07-08T18:33:36.118279Z",
     "start_time": "2025-07-08T18:33:31.508461Z"
    }
   },
   "cell_type": "code",
   "source": [
    "isbn = []\n",
    "\n",
    "emotion_scores = {label: [] for label in emotion_labels}\n",
    "\n",
    "for i in range(10):\n",
    "    isbn.append(books['isbn13'][i])\n",
    "    sentences = books['description'][i].split(\".\")\n",
    "    predictions = classifier(sentences)\n",
    "    max_scores = calculae_max_emotion_score(predictions)\n",
    "    for label in emotion_labels:\n",
    "        emotion_scores[label].append(max_scores[label])"
   ],
   "id": "486311e15b22052c",
   "outputs": [],
   "execution_count": 33
  },
  {
   "metadata": {
    "ExecuteTime": {
     "end_time": "2025-07-08T18:34:02.832852Z",
     "start_time": "2025-07-08T18:34:02.810165Z"
    }
   },
   "cell_type": "code",
   "source": "isbn",
   "id": "9c05eafd32158e43",
   "outputs": [
    {
     "data": {
      "text/plain": [
       "[np.int64(9780002005883),\n",
       " np.int64(9780002261982),\n",
       " np.int64(9780006178736),\n",
       " np.int64(9780006280897),\n",
       " np.int64(9780006280934),\n",
       " np.int64(9780006380832),\n",
       " np.int64(9780006470229),\n",
       " np.int64(9780006472612),\n",
       " np.int64(9780006482079),\n",
       " np.int64(9780006483014)]"
      ]
     },
     "execution_count": 34,
     "metadata": {},
     "output_type": "execute_result"
    }
   ],
   "execution_count": 34
  },
  {
   "metadata": {
    "ExecuteTime": {
     "end_time": "2025-07-08T18:34:07.599604Z",
     "start_time": "2025-07-08T18:34:07.586640Z"
    }
   },
   "cell_type": "code",
   "source": "emotion_scores",
   "id": "746ba59c387195f4",
   "outputs": [
    {
     "data": {
      "text/plain": [
       "{'anger': [np.float64(0.06413363665342331),\n",
       "  np.float64(0.6126194596290588),\n",
       "  np.float64(0.06413363665342331),\n",
       "  np.float64(0.35148516297340393),\n",
       "  np.float64(0.0814124271273613),\n",
       "  np.float64(0.23222433030605316),\n",
       "  np.float64(0.5381842255592346),\n",
       "  np.float64(0.06413363665342331),\n",
       "  np.float64(0.3006698489189148),\n",
       "  np.float64(0.06413363665342331)],\n",
       " 'disgust': [np.float64(0.27359113097190857),\n",
       "  np.float64(0.3482842445373535),\n",
       "  np.float64(0.10400673747062683),\n",
       "  np.float64(0.1507222205400467),\n",
       "  np.float64(0.18449550867080688),\n",
       "  np.float64(0.7271752953529358),\n",
       "  np.float64(0.15585486590862274),\n",
       "  np.float64(0.10400673747062683),\n",
       "  np.float64(0.27948102355003357),\n",
       "  np.float64(0.17792704701423645)],\n",
       " 'fear': [np.float64(0.9281682968139648),\n",
       "  np.float64(0.942527711391449),\n",
       "  np.float64(0.9723207950592041),\n",
       "  np.float64(0.36070549488067627),\n",
       "  np.float64(0.09504342079162598),\n",
       "  np.float64(0.051362838596105576),\n",
       "  np.float64(0.7474275231361389),\n",
       "  np.float64(0.4044971764087677),\n",
       "  np.float64(0.9155240654945374),\n",
       "  np.float64(0.051362838596105576)],\n",
       " 'joy': [np.float64(0.9327981472015381),\n",
       "  np.float64(0.7044221758842468),\n",
       "  np.float64(0.7672385573387146),\n",
       "  np.float64(0.25188156962394714),\n",
       "  np.float64(0.04056441783905029),\n",
       "  np.float64(0.04337583854794502),\n",
       "  np.float64(0.872565746307373),\n",
       "  np.float64(0.04056441783905029),\n",
       "  np.float64(0.04056441783905029),\n",
       "  np.float64(0.04056441783905029)],\n",
       " 'sadness': [np.float64(0.6462159156799316),\n",
       "  np.float64(0.8879395127296448),\n",
       "  np.float64(0.549476683139801),\n",
       "  np.float64(0.7326849102973938),\n",
       "  np.float64(0.8843895196914673),\n",
       "  np.float64(0.6213918328285217),\n",
       "  np.float64(0.7121940851211548),\n",
       "  np.float64(0.549476683139801),\n",
       "  np.float64(0.8402892351150513),\n",
       "  np.float64(0.8603723645210266)],\n",
       " 'surprise': [np.float64(0.9671575427055359),\n",
       "  np.float64(0.11169019341468811),\n",
       "  np.float64(0.11169019341468811),\n",
       "  np.float64(0.11169019341468811),\n",
       "  np.float64(0.4758801758289337),\n",
       "  np.float64(0.11169019341468811),\n",
       "  np.float64(0.40800151228904724),\n",
       "  np.float64(0.8202826380729675),\n",
       "  np.float64(0.35446202754974365),\n",
       "  np.float64(0.11169019341468811)],\n",
       " 'neutral': [np.float64(0.7296021580696106),\n",
       "  np.float64(0.25254595279693604),\n",
       "  np.float64(0.07876546680927277),\n",
       "  np.float64(0.07876546680927277),\n",
       "  np.float64(0.07876546680927277),\n",
       "  np.float64(0.27190354466438293),\n",
       "  np.float64(0.07876546680927277),\n",
       "  np.float64(0.23448696732521057),\n",
       "  np.float64(0.1356135606765747),\n",
       "  np.float64(0.07876546680927277)]}"
      ]
     },
     "execution_count": 35,
     "metadata": {},
     "output_type": "execute_result"
    }
   ],
   "execution_count": 35
  },
  {
   "metadata": {
    "ExecuteTime": {
     "end_time": "2025-07-08T18:35:38.294791Z",
     "start_time": "2025-07-08T18:35:38.283099Z"
    }
   },
   "cell_type": "code",
   "source": "from tqdm import tqdm",
   "id": "8dcd0cb1de806232",
   "outputs": [],
   "execution_count": 37
  },
  {
   "metadata": {
    "ExecuteTime": {
     "end_time": "2025-07-08T19:09:19.360246Z",
     "start_time": "2025-07-08T18:36:28.957694Z"
    }
   },
   "cell_type": "code",
   "source": [
    "emotion_labels = [\"anger\", \"disgust\", \"fear\", \"joy\", \"sadness\", \"surprise\", \"neutral\"]\n",
    "isbn = []\n",
    "emotion_scores = {label: [] for label in emotion_labels}\n",
    "\n",
    "for i in tqdm(range(len(books))):\n",
    "    isbn.append(books['isbn13'][i])\n",
    "    sentences = books['description'][i].split(\".\")\n",
    "    predictions = classifier(sentences)\n",
    "    max_scores = calculae_max_emotion_score(predictions)\n",
    "    for label in emotion_labels:\n",
    "        emotion_scores[label].append(max_scores[label])"
   ],
   "id": "2ef2d11416205ac8",
   "outputs": [
    {
     "name": "stderr",
     "output_type": "stream",
     "text": [
      "100%|██████████| 5197/5197 [32:50<00:00,  2.64it/s]  \n"
     ]
    }
   ],
   "execution_count": 38
  },
  {
   "metadata": {
    "ExecuteTime": {
     "end_time": "2025-07-08T19:10:41.790877Z",
     "start_time": "2025-07-08T19:10:40.316864Z"
    }
   },
   "cell_type": "code",
   "source": [
    "emotion_df = pd.DataFrame(emotion_scores)\n",
    "emotion_df['isbn13'] = isbn"
   ],
   "id": "7c6ce7fcbcd789bd",
   "outputs": [],
   "execution_count": 39
  },
  {
   "metadata": {
    "ExecuteTime": {
     "end_time": "2025-07-08T19:10:44.933489Z",
     "start_time": "2025-07-08T19:10:44.368619Z"
    }
   },
   "cell_type": "code",
   "source": "emotion_df",
   "id": "d44deaf5292eb8af",
   "outputs": [
    {
     "data": {
      "text/plain": [
       "         anger   disgust      fear       joy   sadness  surprise   neutral  \\\n",
       "0     0.064134  0.273591  0.928168  0.932798  0.646216  0.967158  0.729602   \n",
       "1     0.612619  0.348284  0.942528  0.704422  0.887940  0.111690  0.252546   \n",
       "2     0.064134  0.104007  0.972321  0.767239  0.549477  0.111690  0.078765   \n",
       "3     0.351485  0.150722  0.360705  0.251882  0.732685  0.111690  0.078765   \n",
       "4     0.081412  0.184496  0.095043  0.040564  0.884390  0.475880  0.078765   \n",
       "...        ...       ...       ...       ...       ...       ...       ...   \n",
       "5192  0.148209  0.030643  0.919165  0.255171  0.853721  0.980877  0.030656   \n",
       "5193  0.064134  0.114383  0.051363  0.400263  0.883198  0.111690  0.227765   \n",
       "5194  0.009997  0.009929  0.339218  0.947779  0.375754  0.066685  0.057625   \n",
       "5195  0.064134  0.104007  0.459270  0.759457  0.951104  0.368111  0.078765   \n",
       "5196  0.064134  0.104007  0.051363  0.958549  0.915193  0.111690  0.078765   \n",
       "\n",
       "             isbn13  \n",
       "0     9780002005883  \n",
       "1     9780002261982  \n",
       "2     9780006178736  \n",
       "3     9780006280897  \n",
       "4     9780006280934  \n",
       "...             ...  \n",
       "5192  9788172235222  \n",
       "5193  9788173031014  \n",
       "5194  9788179921623  \n",
       "5195  9788185300535  \n",
       "5196  9789027712059  \n",
       "\n",
       "[5197 rows x 8 columns]"
      ],
      "text/html": [
       "<div>\n",
       "<style scoped>\n",
       "    .dataframe tbody tr th:only-of-type {\n",
       "        vertical-align: middle;\n",
       "    }\n",
       "\n",
       "    .dataframe tbody tr th {\n",
       "        vertical-align: top;\n",
       "    }\n",
       "\n",
       "    .dataframe thead th {\n",
       "        text-align: right;\n",
       "    }\n",
       "</style>\n",
       "<table border=\"1\" class=\"dataframe\">\n",
       "  <thead>\n",
       "    <tr style=\"text-align: right;\">\n",
       "      <th></th>\n",
       "      <th>anger</th>\n",
       "      <th>disgust</th>\n",
       "      <th>fear</th>\n",
       "      <th>joy</th>\n",
       "      <th>sadness</th>\n",
       "      <th>surprise</th>\n",
       "      <th>neutral</th>\n",
       "      <th>isbn13</th>\n",
       "    </tr>\n",
       "  </thead>\n",
       "  <tbody>\n",
       "    <tr>\n",
       "      <th>0</th>\n",
       "      <td>0.064134</td>\n",
       "      <td>0.273591</td>\n",
       "      <td>0.928168</td>\n",
       "      <td>0.932798</td>\n",
       "      <td>0.646216</td>\n",
       "      <td>0.967158</td>\n",
       "      <td>0.729602</td>\n",
       "      <td>9780002005883</td>\n",
       "    </tr>\n",
       "    <tr>\n",
       "      <th>1</th>\n",
       "      <td>0.612619</td>\n",
       "      <td>0.348284</td>\n",
       "      <td>0.942528</td>\n",
       "      <td>0.704422</td>\n",
       "      <td>0.887940</td>\n",
       "      <td>0.111690</td>\n",
       "      <td>0.252546</td>\n",
       "      <td>9780002261982</td>\n",
       "    </tr>\n",
       "    <tr>\n",
       "      <th>2</th>\n",
       "      <td>0.064134</td>\n",
       "      <td>0.104007</td>\n",
       "      <td>0.972321</td>\n",
       "      <td>0.767239</td>\n",
       "      <td>0.549477</td>\n",
       "      <td>0.111690</td>\n",
       "      <td>0.078765</td>\n",
       "      <td>9780006178736</td>\n",
       "    </tr>\n",
       "    <tr>\n",
       "      <th>3</th>\n",
       "      <td>0.351485</td>\n",
       "      <td>0.150722</td>\n",
       "      <td>0.360705</td>\n",
       "      <td>0.251882</td>\n",
       "      <td>0.732685</td>\n",
       "      <td>0.111690</td>\n",
       "      <td>0.078765</td>\n",
       "      <td>9780006280897</td>\n",
       "    </tr>\n",
       "    <tr>\n",
       "      <th>4</th>\n",
       "      <td>0.081412</td>\n",
       "      <td>0.184496</td>\n",
       "      <td>0.095043</td>\n",
       "      <td>0.040564</td>\n",
       "      <td>0.884390</td>\n",
       "      <td>0.475880</td>\n",
       "      <td>0.078765</td>\n",
       "      <td>9780006280934</td>\n",
       "    </tr>\n",
       "    <tr>\n",
       "      <th>...</th>\n",
       "      <td>...</td>\n",
       "      <td>...</td>\n",
       "      <td>...</td>\n",
       "      <td>...</td>\n",
       "      <td>...</td>\n",
       "      <td>...</td>\n",
       "      <td>...</td>\n",
       "      <td>...</td>\n",
       "    </tr>\n",
       "    <tr>\n",
       "      <th>5192</th>\n",
       "      <td>0.148209</td>\n",
       "      <td>0.030643</td>\n",
       "      <td>0.919165</td>\n",
       "      <td>0.255171</td>\n",
       "      <td>0.853721</td>\n",
       "      <td>0.980877</td>\n",
       "      <td>0.030656</td>\n",
       "      <td>9788172235222</td>\n",
       "    </tr>\n",
       "    <tr>\n",
       "      <th>5193</th>\n",
       "      <td>0.064134</td>\n",
       "      <td>0.114383</td>\n",
       "      <td>0.051363</td>\n",
       "      <td>0.400263</td>\n",
       "      <td>0.883198</td>\n",
       "      <td>0.111690</td>\n",
       "      <td>0.227765</td>\n",
       "      <td>9788173031014</td>\n",
       "    </tr>\n",
       "    <tr>\n",
       "      <th>5194</th>\n",
       "      <td>0.009997</td>\n",
       "      <td>0.009929</td>\n",
       "      <td>0.339218</td>\n",
       "      <td>0.947779</td>\n",
       "      <td>0.375754</td>\n",
       "      <td>0.066685</td>\n",
       "      <td>0.057625</td>\n",
       "      <td>9788179921623</td>\n",
       "    </tr>\n",
       "    <tr>\n",
       "      <th>5195</th>\n",
       "      <td>0.064134</td>\n",
       "      <td>0.104007</td>\n",
       "      <td>0.459270</td>\n",
       "      <td>0.759457</td>\n",
       "      <td>0.951104</td>\n",
       "      <td>0.368111</td>\n",
       "      <td>0.078765</td>\n",
       "      <td>9788185300535</td>\n",
       "    </tr>\n",
       "    <tr>\n",
       "      <th>5196</th>\n",
       "      <td>0.064134</td>\n",
       "      <td>0.104007</td>\n",
       "      <td>0.051363</td>\n",
       "      <td>0.958549</td>\n",
       "      <td>0.915193</td>\n",
       "      <td>0.111690</td>\n",
       "      <td>0.078765</td>\n",
       "      <td>9789027712059</td>\n",
       "    </tr>\n",
       "  </tbody>\n",
       "</table>\n",
       "<p>5197 rows × 8 columns</p>\n",
       "</div>"
      ]
     },
     "execution_count": 40,
     "metadata": {},
     "output_type": "execute_result"
    }
   ],
   "execution_count": 40
  },
  {
   "metadata": {
    "ExecuteTime": {
     "end_time": "2025-07-08T19:11:49.116567Z",
     "start_time": "2025-07-08T19:11:46.399543Z"
    }
   },
   "cell_type": "code",
   "source": "books = pd.merge(books, emotion_df, on='isbn13')",
   "id": "494ba2706c4fa28c",
   "outputs": [],
   "execution_count": 41
  },
  {
   "metadata": {
    "ExecuteTime": {
     "end_time": "2025-07-08T19:11:49.502885Z",
     "start_time": "2025-07-08T19:11:49.136871Z"
    }
   },
   "cell_type": "code",
   "source": "books",
   "id": "1712308d1c38d85a",
   "outputs": [
    {
     "data": {
      "text/plain": [
       "             isbn13      isbn10  \\\n",
       "0     9780002005883  0002005883   \n",
       "1     9780002261982  0002261987   \n",
       "2     9780006178736  0006178731   \n",
       "3     9780006280897  0006280897   \n",
       "4     9780006280934  0006280935   \n",
       "...             ...         ...   \n",
       "5192  9788172235222  8172235224   \n",
       "5193  9788173031014  8173031010   \n",
       "5194  9788179921623  817992162X   \n",
       "5195  9788185300535  8185300534   \n",
       "5196  9789027712059  9027712050   \n",
       "\n",
       "                                                  title  \\\n",
       "0                                                Gilead   \n",
       "1                                          Spider's Web   \n",
       "2                                        Rage of angels   \n",
       "3                                        The Four Loves   \n",
       "4                                   The Problem of Pain   \n",
       "...                                                 ...   \n",
       "5192                                  Mistaken Identity   \n",
       "5193                                Journey to the East   \n",
       "5194  The Monk Who Sold His Ferrari: A Fable About F...   \n",
       "5195                                          I Am that   \n",
       "5196                           The Berlin Phenomenology   \n",
       "\n",
       "                                           authors  \\\n",
       "0                               Marilynne Robinson   \n",
       "1                  Charles Osborne;Agatha Christie   \n",
       "2                                   Sidney Sheldon   \n",
       "3                              Clive Staples Lewis   \n",
       "4                              Clive Staples Lewis   \n",
       "...                                            ...   \n",
       "5192                              Nayantara Sahgal   \n",
       "5193                                 Hermann Hesse   \n",
       "5194                                  Robin Sharma   \n",
       "5195  Sri Nisargadatta Maharaj;Sudhakar S. Dikshit   \n",
       "5196                 Georg Wilhelm Friedrich Hegel   \n",
       "\n",
       "                         categories  \\\n",
       "0                           Fiction   \n",
       "1     Detective and mystery stories   \n",
       "2                           Fiction   \n",
       "3                    Christian life   \n",
       "4                    Christian life   \n",
       "...                             ...   \n",
       "5192        Indic fiction (English)   \n",
       "5193              Adventure stories   \n",
       "5194               Health & Fitness   \n",
       "5195                     Philosophy   \n",
       "5196                        History   \n",
       "\n",
       "                                              thumbnail  \\\n",
       "0     http://books.google.com/books/content?id=KQZCP...   \n",
       "1     http://books.google.com/books/content?id=gA5GP...   \n",
       "2     http://books.google.com/books/content?id=FKo2T...   \n",
       "3     http://books.google.com/books/content?id=XhQ5X...   \n",
       "4     http://books.google.com/books/content?id=Kk-uV...   \n",
       "...                                                 ...   \n",
       "5192  http://books.google.com/books/content?id=q-tKP...   \n",
       "5193  http://books.google.com/books/content?id=rq6JP...   \n",
       "5194  http://books.google.com/books/content?id=c_7mf...   \n",
       "5195  http://books.google.com/books/content?id=Fv_JP...   \n",
       "5196  http://books.google.com/books/content?id=Vy7Sk...   \n",
       "\n",
       "                                            description  published_year  \\\n",
       "0     A NOVEL THAT READERS and critics have been eag...          2004.0   \n",
       "1     A new 'Christie for Christmas' -- a full-lengt...          2000.0   \n",
       "2     A memorable, mesmerizing heroine Jennifer -- b...          1993.0   \n",
       "3     Lewis' work on the nature of love divides love...          2002.0   \n",
       "4     \"In The Problem of Pain, C.S. Lewis, one of th...          2002.0   \n",
       "...                                                 ...             ...   \n",
       "5192  On A Train Journey Home To North India After L...          2003.0   \n",
       "5193  This book tells the tale of a man who goes on ...          2002.0   \n",
       "5194  Wisdom to Create a Life of Passion, Purpose, a...          2003.0   \n",
       "5195  This collection of the timeless teachings of o...          1999.0   \n",
       "5196  Since the three volume edition ofHegel's Philo...          1981.0   \n",
       "\n",
       "      average_rating  num_pages  ...  simple_categories predicted_cat_x  \\\n",
       "0               3.85      247.0  ...            Fiction             NaN   \n",
       "1               3.83      241.0  ...            Fiction         Fiction   \n",
       "2               3.93      512.0  ...            Fiction             NaN   \n",
       "3               4.15      170.0  ...         NonFiction      NonFiction   \n",
       "4               4.09      176.0  ...         NonFiction      NonFiction   \n",
       "...              ...        ...  ...                ...             ...   \n",
       "5192            2.93      324.0  ...         NonFiction      NonFiction   \n",
       "5193            3.70      175.0  ...         NonFiction      NonFiction   \n",
       "5194            3.82      198.0  ...            Fiction         Fiction   \n",
       "5195            4.51      531.0  ...         Nonfiction             NaN   \n",
       "5196            0.00      210.0  ...         Nonfiction             NaN   \n",
       "\n",
       "     predicted_cat_y     anger   disgust      fear       joy   sadness  \\\n",
       "0                NaN  0.064134  0.273591  0.928168  0.932798  0.646216   \n",
       "1            Fiction  0.612619  0.348284  0.942528  0.704422  0.887940   \n",
       "2                NaN  0.064134  0.104007  0.972321  0.767239  0.549477   \n",
       "3         NonFiction  0.351485  0.150722  0.360705  0.251882  0.732685   \n",
       "4         NonFiction  0.081412  0.184496  0.095043  0.040564  0.884390   \n",
       "...              ...       ...       ...       ...       ...       ...   \n",
       "5192      NonFiction  0.148209  0.030643  0.919165  0.255171  0.853721   \n",
       "5193      NonFiction  0.064134  0.114383  0.051363  0.400263  0.883198   \n",
       "5194         Fiction  0.009997  0.009929  0.339218  0.947779  0.375754   \n",
       "5195             NaN  0.064134  0.104007  0.459270  0.759457  0.951104   \n",
       "5196             NaN  0.064134  0.104007  0.051363  0.958549  0.915193   \n",
       "\n",
       "      surprise   neutral  \n",
       "0     0.967158  0.729602  \n",
       "1     0.111690  0.252546  \n",
       "2     0.111690  0.078765  \n",
       "3     0.111690  0.078765  \n",
       "4     0.475880  0.078765  \n",
       "...        ...       ...  \n",
       "5192  0.980877  0.030656  \n",
       "5193  0.111690  0.227765  \n",
       "5194  0.066685  0.057625  \n",
       "5195  0.368111  0.078765  \n",
       "5196  0.111690  0.078765  \n",
       "\n",
       "[5197 rows x 23 columns]"
      ],
      "text/html": [
       "<div>\n",
       "<style scoped>\n",
       "    .dataframe tbody tr th:only-of-type {\n",
       "        vertical-align: middle;\n",
       "    }\n",
       "\n",
       "    .dataframe tbody tr th {\n",
       "        vertical-align: top;\n",
       "    }\n",
       "\n",
       "    .dataframe thead th {\n",
       "        text-align: right;\n",
       "    }\n",
       "</style>\n",
       "<table border=\"1\" class=\"dataframe\">\n",
       "  <thead>\n",
       "    <tr style=\"text-align: right;\">\n",
       "      <th></th>\n",
       "      <th>isbn13</th>\n",
       "      <th>isbn10</th>\n",
       "      <th>title</th>\n",
       "      <th>authors</th>\n",
       "      <th>categories</th>\n",
       "      <th>thumbnail</th>\n",
       "      <th>description</th>\n",
       "      <th>published_year</th>\n",
       "      <th>average_rating</th>\n",
       "      <th>num_pages</th>\n",
       "      <th>...</th>\n",
       "      <th>simple_categories</th>\n",
       "      <th>predicted_cat_x</th>\n",
       "      <th>predicted_cat_y</th>\n",
       "      <th>anger</th>\n",
       "      <th>disgust</th>\n",
       "      <th>fear</th>\n",
       "      <th>joy</th>\n",
       "      <th>sadness</th>\n",
       "      <th>surprise</th>\n",
       "      <th>neutral</th>\n",
       "    </tr>\n",
       "  </thead>\n",
       "  <tbody>\n",
       "    <tr>\n",
       "      <th>0</th>\n",
       "      <td>9780002005883</td>\n",
       "      <td>0002005883</td>\n",
       "      <td>Gilead</td>\n",
       "      <td>Marilynne Robinson</td>\n",
       "      <td>Fiction</td>\n",
       "      <td>http://books.google.com/books/content?id=KQZCP...</td>\n",
       "      <td>A NOVEL THAT READERS and critics have been eag...</td>\n",
       "      <td>2004.0</td>\n",
       "      <td>3.85</td>\n",
       "      <td>247.0</td>\n",
       "      <td>...</td>\n",
       "      <td>Fiction</td>\n",
       "      <td>NaN</td>\n",
       "      <td>NaN</td>\n",
       "      <td>0.064134</td>\n",
       "      <td>0.273591</td>\n",
       "      <td>0.928168</td>\n",
       "      <td>0.932798</td>\n",
       "      <td>0.646216</td>\n",
       "      <td>0.967158</td>\n",
       "      <td>0.729602</td>\n",
       "    </tr>\n",
       "    <tr>\n",
       "      <th>1</th>\n",
       "      <td>9780002261982</td>\n",
       "      <td>0002261987</td>\n",
       "      <td>Spider's Web</td>\n",
       "      <td>Charles Osborne;Agatha Christie</td>\n",
       "      <td>Detective and mystery stories</td>\n",
       "      <td>http://books.google.com/books/content?id=gA5GP...</td>\n",
       "      <td>A new 'Christie for Christmas' -- a full-lengt...</td>\n",
       "      <td>2000.0</td>\n",
       "      <td>3.83</td>\n",
       "      <td>241.0</td>\n",
       "      <td>...</td>\n",
       "      <td>Fiction</td>\n",
       "      <td>Fiction</td>\n",
       "      <td>Fiction</td>\n",
       "      <td>0.612619</td>\n",
       "      <td>0.348284</td>\n",
       "      <td>0.942528</td>\n",
       "      <td>0.704422</td>\n",
       "      <td>0.887940</td>\n",
       "      <td>0.111690</td>\n",
       "      <td>0.252546</td>\n",
       "    </tr>\n",
       "    <tr>\n",
       "      <th>2</th>\n",
       "      <td>9780006178736</td>\n",
       "      <td>0006178731</td>\n",
       "      <td>Rage of angels</td>\n",
       "      <td>Sidney Sheldon</td>\n",
       "      <td>Fiction</td>\n",
       "      <td>http://books.google.com/books/content?id=FKo2T...</td>\n",
       "      <td>A memorable, mesmerizing heroine Jennifer -- b...</td>\n",
       "      <td>1993.0</td>\n",
       "      <td>3.93</td>\n",
       "      <td>512.0</td>\n",
       "      <td>...</td>\n",
       "      <td>Fiction</td>\n",
       "      <td>NaN</td>\n",
       "      <td>NaN</td>\n",
       "      <td>0.064134</td>\n",
       "      <td>0.104007</td>\n",
       "      <td>0.972321</td>\n",
       "      <td>0.767239</td>\n",
       "      <td>0.549477</td>\n",
       "      <td>0.111690</td>\n",
       "      <td>0.078765</td>\n",
       "    </tr>\n",
       "    <tr>\n",
       "      <th>3</th>\n",
       "      <td>9780006280897</td>\n",
       "      <td>0006280897</td>\n",
       "      <td>The Four Loves</td>\n",
       "      <td>Clive Staples Lewis</td>\n",
       "      <td>Christian life</td>\n",
       "      <td>http://books.google.com/books/content?id=XhQ5X...</td>\n",
       "      <td>Lewis' work on the nature of love divides love...</td>\n",
       "      <td>2002.0</td>\n",
       "      <td>4.15</td>\n",
       "      <td>170.0</td>\n",
       "      <td>...</td>\n",
       "      <td>NonFiction</td>\n",
       "      <td>NonFiction</td>\n",
       "      <td>NonFiction</td>\n",
       "      <td>0.351485</td>\n",
       "      <td>0.150722</td>\n",
       "      <td>0.360705</td>\n",
       "      <td>0.251882</td>\n",
       "      <td>0.732685</td>\n",
       "      <td>0.111690</td>\n",
       "      <td>0.078765</td>\n",
       "    </tr>\n",
       "    <tr>\n",
       "      <th>4</th>\n",
       "      <td>9780006280934</td>\n",
       "      <td>0006280935</td>\n",
       "      <td>The Problem of Pain</td>\n",
       "      <td>Clive Staples Lewis</td>\n",
       "      <td>Christian life</td>\n",
       "      <td>http://books.google.com/books/content?id=Kk-uV...</td>\n",
       "      <td>\"In The Problem of Pain, C.S. Lewis, one of th...</td>\n",
       "      <td>2002.0</td>\n",
       "      <td>4.09</td>\n",
       "      <td>176.0</td>\n",
       "      <td>...</td>\n",
       "      <td>NonFiction</td>\n",
       "      <td>NonFiction</td>\n",
       "      <td>NonFiction</td>\n",
       "      <td>0.081412</td>\n",
       "      <td>0.184496</td>\n",
       "      <td>0.095043</td>\n",
       "      <td>0.040564</td>\n",
       "      <td>0.884390</td>\n",
       "      <td>0.475880</td>\n",
       "      <td>0.078765</td>\n",
       "    </tr>\n",
       "    <tr>\n",
       "      <th>...</th>\n",
       "      <td>...</td>\n",
       "      <td>...</td>\n",
       "      <td>...</td>\n",
       "      <td>...</td>\n",
       "      <td>...</td>\n",
       "      <td>...</td>\n",
       "      <td>...</td>\n",
       "      <td>...</td>\n",
       "      <td>...</td>\n",
       "      <td>...</td>\n",
       "      <td>...</td>\n",
       "      <td>...</td>\n",
       "      <td>...</td>\n",
       "      <td>...</td>\n",
       "      <td>...</td>\n",
       "      <td>...</td>\n",
       "      <td>...</td>\n",
       "      <td>...</td>\n",
       "      <td>...</td>\n",
       "      <td>...</td>\n",
       "      <td>...</td>\n",
       "    </tr>\n",
       "    <tr>\n",
       "      <th>5192</th>\n",
       "      <td>9788172235222</td>\n",
       "      <td>8172235224</td>\n",
       "      <td>Mistaken Identity</td>\n",
       "      <td>Nayantara Sahgal</td>\n",
       "      <td>Indic fiction (English)</td>\n",
       "      <td>http://books.google.com/books/content?id=q-tKP...</td>\n",
       "      <td>On A Train Journey Home To North India After L...</td>\n",
       "      <td>2003.0</td>\n",
       "      <td>2.93</td>\n",
       "      <td>324.0</td>\n",
       "      <td>...</td>\n",
       "      <td>NonFiction</td>\n",
       "      <td>NonFiction</td>\n",
       "      <td>NonFiction</td>\n",
       "      <td>0.148209</td>\n",
       "      <td>0.030643</td>\n",
       "      <td>0.919165</td>\n",
       "      <td>0.255171</td>\n",
       "      <td>0.853721</td>\n",
       "      <td>0.980877</td>\n",
       "      <td>0.030656</td>\n",
       "    </tr>\n",
       "    <tr>\n",
       "      <th>5193</th>\n",
       "      <td>9788173031014</td>\n",
       "      <td>8173031010</td>\n",
       "      <td>Journey to the East</td>\n",
       "      <td>Hermann Hesse</td>\n",
       "      <td>Adventure stories</td>\n",
       "      <td>http://books.google.com/books/content?id=rq6JP...</td>\n",
       "      <td>This book tells the tale of a man who goes on ...</td>\n",
       "      <td>2002.0</td>\n",
       "      <td>3.70</td>\n",
       "      <td>175.0</td>\n",
       "      <td>...</td>\n",
       "      <td>NonFiction</td>\n",
       "      <td>NonFiction</td>\n",
       "      <td>NonFiction</td>\n",
       "      <td>0.064134</td>\n",
       "      <td>0.114383</td>\n",
       "      <td>0.051363</td>\n",
       "      <td>0.400263</td>\n",
       "      <td>0.883198</td>\n",
       "      <td>0.111690</td>\n",
       "      <td>0.227765</td>\n",
       "    </tr>\n",
       "    <tr>\n",
       "      <th>5194</th>\n",
       "      <td>9788179921623</td>\n",
       "      <td>817992162X</td>\n",
       "      <td>The Monk Who Sold His Ferrari: A Fable About F...</td>\n",
       "      <td>Robin Sharma</td>\n",
       "      <td>Health &amp; Fitness</td>\n",
       "      <td>http://books.google.com/books/content?id=c_7mf...</td>\n",
       "      <td>Wisdom to Create a Life of Passion, Purpose, a...</td>\n",
       "      <td>2003.0</td>\n",
       "      <td>3.82</td>\n",
       "      <td>198.0</td>\n",
       "      <td>...</td>\n",
       "      <td>Fiction</td>\n",
       "      <td>Fiction</td>\n",
       "      <td>Fiction</td>\n",
       "      <td>0.009997</td>\n",
       "      <td>0.009929</td>\n",
       "      <td>0.339218</td>\n",
       "      <td>0.947779</td>\n",
       "      <td>0.375754</td>\n",
       "      <td>0.066685</td>\n",
       "      <td>0.057625</td>\n",
       "    </tr>\n",
       "    <tr>\n",
       "      <th>5195</th>\n",
       "      <td>9788185300535</td>\n",
       "      <td>8185300534</td>\n",
       "      <td>I Am that</td>\n",
       "      <td>Sri Nisargadatta Maharaj;Sudhakar S. Dikshit</td>\n",
       "      <td>Philosophy</td>\n",
       "      <td>http://books.google.com/books/content?id=Fv_JP...</td>\n",
       "      <td>This collection of the timeless teachings of o...</td>\n",
       "      <td>1999.0</td>\n",
       "      <td>4.51</td>\n",
       "      <td>531.0</td>\n",
       "      <td>...</td>\n",
       "      <td>Nonfiction</td>\n",
       "      <td>NaN</td>\n",
       "      <td>NaN</td>\n",
       "      <td>0.064134</td>\n",
       "      <td>0.104007</td>\n",
       "      <td>0.459270</td>\n",
       "      <td>0.759457</td>\n",
       "      <td>0.951104</td>\n",
       "      <td>0.368111</td>\n",
       "      <td>0.078765</td>\n",
       "    </tr>\n",
       "    <tr>\n",
       "      <th>5196</th>\n",
       "      <td>9789027712059</td>\n",
       "      <td>9027712050</td>\n",
       "      <td>The Berlin Phenomenology</td>\n",
       "      <td>Georg Wilhelm Friedrich Hegel</td>\n",
       "      <td>History</td>\n",
       "      <td>http://books.google.com/books/content?id=Vy7Sk...</td>\n",
       "      <td>Since the three volume edition ofHegel's Philo...</td>\n",
       "      <td>1981.0</td>\n",
       "      <td>0.00</td>\n",
       "      <td>210.0</td>\n",
       "      <td>...</td>\n",
       "      <td>Nonfiction</td>\n",
       "      <td>NaN</td>\n",
       "      <td>NaN</td>\n",
       "      <td>0.064134</td>\n",
       "      <td>0.104007</td>\n",
       "      <td>0.051363</td>\n",
       "      <td>0.958549</td>\n",
       "      <td>0.915193</td>\n",
       "      <td>0.111690</td>\n",
       "      <td>0.078765</td>\n",
       "    </tr>\n",
       "  </tbody>\n",
       "</table>\n",
       "<p>5197 rows × 23 columns</p>\n",
       "</div>"
      ]
     },
     "execution_count": 42,
     "metadata": {},
     "output_type": "execute_result"
    }
   ],
   "execution_count": 42
  },
  {
   "metadata": {
    "ExecuteTime": {
     "end_time": "2025-07-08T19:12:30.738297Z",
     "start_time": "2025-07-08T19:12:27.730656Z"
    }
   },
   "cell_type": "code",
   "source": "books.to_csv(\"books_final.csv\", index = False)",
   "id": "26194d3b766b0d02",
   "outputs": [],
   "execution_count": 43
  },
  {
   "metadata": {},
   "cell_type": "code",
   "outputs": [],
   "execution_count": null,
   "source": "",
   "id": "ecf7f323e4cddb57"
  }
 ],
 "metadata": {
  "kernelspec": {
   "display_name": "Python 3",
   "language": "python",
   "name": "python3"
  },
  "language_info": {
   "codemirror_mode": {
    "name": "ipython",
    "version": 2
   },
   "file_extension": ".py",
   "mimetype": "text/x-python",
   "name": "python",
   "nbconvert_exporter": "python",
   "pygments_lexer": "ipython2",
   "version": "2.7.6"
  }
 },
 "nbformat": 4,
 "nbformat_minor": 5
}
